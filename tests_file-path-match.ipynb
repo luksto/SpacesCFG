{
 "cells": [
  {
   "cell_type": "code",
   "execution_count": 77,
   "metadata": {},
   "outputs": [],
   "source": [
    "import re\n",
    "from pathlib import Path\n",
    "root_dir_str = \"./orca-test/user/default\"\n",
    "instance_id = \"Labor\""
   ]
  },
  {
   "cell_type": "code",
   "execution_count": 78,
   "metadata": {},
   "outputs": [
    {
     "name": "stdout",
     "output_type": "stream",
     "text": [
      "root: orca-test/user/default\n",
      "dirs: ['filament', 'machine', 'process']\n",
      "file: []\n",
      "inst: []\n",
      "\n",
      "root: orca-test/user/default/filament\n",
      "dirs: ['base']\n",
      "file: ['3DJake NiceABS @LaborVoron.json', '3DJake niceABS.json', 'ABS - Polymaker.json', 'ASA - Polymaker.json', 'Labor - Voron Generic PETG.json', 'Labor - Voron Generic PLA.json', 'PETG - Global.json', 'PLA-Global.json', 'Polymaker PolyLite ASA.json']\n",
      "inst: ['Labor - Voron Generic PETG.json', 'Labor - Voron Generic PLA.json']\n",
      "\n",
      "root: orca-test/user/default/filament/base\n",
      "dirs: []\n",
      "file: ['3DJake ABS nice @Creality Ender-3 0.4 nozzle.json', '3DJake ABS nice @MyKlipper 0.4 nozzle.json', '3DJake ABS nice @UltiMaker 2 0.4 nozzle.json', 'Nobufil ABS Marble White @Voron 2.4 300 0.4 nozzle.json']\n",
      "inst: []\n",
      "\n",
      "root: orca-test/user/default/machine\n",
      "dirs: []\n",
      "file: ['Labor - Voron 2.4 300 0.4.json', 'Labor - expert_Voron 2.4 300 0.4.json', 'eddi3 0.4 nozzle.json']\n",
      "inst: ['Labor - Voron 2.4 300 0.4.json', 'Labor - expert_Voron 2.4 300 0.4.json']\n",
      "\n",
      "root: orca-test/user/default/process\n",
      "dirs: []\n",
      "file: ['0.15mm @eddi.json', '0.20mm @eddi.json', '0.20mm Slow @LaborVoron.json', '0.20mm Speed @LaborVoron.json', '0.20mm Standard @LaborVoron.json', '0.28 Speed @LaborVoron.json', '0.28 Standard @LaborVoron.json', '0.2mm Standard 1 Wall Top Bottom @LaborVoron.json', '0.2mm VORON PARTS - STRONG @LaborVoron.json', '0.2mm VORON PARTS - WEEK+FASTer @LaborVoron.json', '0.2mm VORON PARTS 45 - STRONG @LaborVoron.json', 'Annex @ Voron.json', 'Elis-EM - 0.20mm Standard @LaborVoron.json', 'PIF (Fast) @ Voron.json', 'PIF @ Voron.json']\n",
      "inst: []\n",
      "\n"
     ]
    }
   ],
   "source": [
    "glob_root = Path(root_dir_str)\n",
    "\n",
    "for root, dir, files in glob_root.walk():\n",
    "    dot_dirs = [s for s in dir if re.match(r'^\\..*$', s)]\n",
    "    dot_files = [f for f in files if re.match(r'^\\..*$', f)]\n",
    "    for r in dot_dirs:\n",
    "        dir.remove(r)\n",
    "    for f in dot_files:\n",
    "        files.remove(f)\n",
    "    \n",
    "    json_files = [f for f in files if re.match(r'.*\\.json$', f)]\n",
    "    instance_jsons = [f for f in json_files if re.match(rf'^{instance_id}.*$', f)]\n",
    "    print(f\"root: {root}\")\n",
    "    print(f\"dirs: {dir}\")\n",
    "    print(f\"file: {json_files}\")\n",
    "    print(f\"inst: {instance_jsons}\")\n",
    "    print()"
   ]
  },
  {
   "cell_type": "code",
   "execution_count": 72,
   "metadata": {},
   "outputs": [
    {
     "name": "stdout",
     "output_type": "stream",
     "text": [
      "/.lab_\n"
     ]
    }
   ],
   "source": [
    "instance_pattern = rf\"/.{instance_id}_\"\n",
    "print(instance_pattern)"
   ]
  }
 ],
 "metadata": {
  "kernelspec": {
   "display_name": "prj_SpacesCFG",
   "language": "python",
   "name": "python3"
  },
  "language_info": {
   "codemirror_mode": {
    "name": "ipython",
    "version": 3
   },
   "file_extension": ".py",
   "mimetype": "text/x-python",
   "name": "python",
   "nbconvert_exporter": "python",
   "pygments_lexer": "ipython3",
   "version": "3.13.0"
  }
 },
 "nbformat": 4,
 "nbformat_minor": 2
}
